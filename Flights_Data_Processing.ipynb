{
  "cells": [
    {
      "cell_type": "markdown",
      "id": "7008ea4f",
      "metadata": {
        "id": "7008ea4f"
      },
      "source": [
        "## Your Name: Ayuob AL-Mubedein"
      ]
    },
    {
      "cell_type": "markdown",
      "source": [
        "# **Importing**"
      ],
      "metadata": {
        "id": "Pq4vWs-evtmR"
      },
      "id": "Pq4vWs-evtmR"
    },
    {
      "cell_type": "code",
      "source": [
        "!pip install pyspark"
      ],
      "metadata": {
        "colab": {
          "base_uri": "https://localhost:8080/"
        },
        "id": "2nsAPJ_aayJi",
        "outputId": "e840fd61-0ebe-497d-a5c8-9570a29cb3e8"
      },
      "id": "2nsAPJ_aayJi",
      "execution_count": 1,
      "outputs": [
        {
          "output_type": "stream",
          "name": "stdout",
          "text": [
            "Requirement already satisfied: pyspark in /usr/local/lib/python3.11/dist-packages (3.5.4)\n",
            "Requirement already satisfied: py4j==0.10.9.7 in /usr/local/lib/python3.11/dist-packages (from pyspark) (0.10.9.7)\n"
          ]
        }
      ]
    },
    {
      "cell_type": "code",
      "source": [
        "from datetime import datetime"
      ],
      "metadata": {
        "id": "mUjmM9TCek6h"
      },
      "id": "mUjmM9TCek6h",
      "execution_count": 2,
      "outputs": []
    },
    {
      "cell_type": "code",
      "execution_count": 3,
      "id": "a47c0efc",
      "metadata": {
        "id": "a47c0efc"
      },
      "outputs": [],
      "source": [
        "from pyspark import SparkConf,SparkContext\n",
        "from datetime import datetime"
      ]
    },
    {
      "cell_type": "code",
      "execution_count": 4,
      "id": "23e263ca",
      "metadata": {
        "id": "23e263ca"
      },
      "outputs": [],
      "source": [
        "conf = SparkConf().setMaster(\"local\").setAppName(\"Big Data Project\")"
      ]
    },
    {
      "cell_type": "code",
      "execution_count": 5,
      "id": "97b0543b",
      "metadata": {
        "id": "97b0543b"
      },
      "outputs": [],
      "source": [
        "sc = SparkContext(conf=conf)"
      ]
    },
    {
      "cell_type": "markdown",
      "source": [
        "# **Read the data from the file**"
      ],
      "metadata": {
        "id": "lFK34VdJcNvj"
      },
      "id": "lFK34VdJcNvj"
    },
    {
      "cell_type": "code",
      "source": [
        "Trips = sc.textFile(r\"/content/trip.txt\")"
      ],
      "metadata": {
        "id": "-nDmhk3ecLUX"
      },
      "id": "-nDmhk3ecLUX",
      "execution_count": 6,
      "outputs": []
    },
    {
      "cell_type": "code",
      "source": [
        "Trips.take(5)"
      ],
      "metadata": {
        "colab": {
          "base_uri": "https://localhost:8080/"
        },
        "id": "oLC54KX0eSF2",
        "outputId": "c076d857-bba5-49e1-a973-0d22ad858a0e"
      },
      "id": "oLC54KX0eSF2",
      "execution_count": 7,
      "outputs": [
        {
          "output_type": "execute_result",
          "data": {
            "text/plain": [
              "[\"2024-05-07 12:16:35,O'Hare International Airport,ORD,Suvarnabhumi Airport,BKK,2024-05-08 03:34:35,Air France,13778Km,Airbus A319,150,140\",\n",
              " '2024-04-15 07:24:08,Suvarnabhumi Airport,BKK,Sydney Kingsford-Smith Airport,SYD,2024-04-15 15:45:08,Emirates,7522Km,Boeing 737-700,148,146',\n",
              " '2024-02-16 02:47:10,Shanghai Pudong International Airport,PVG,San Francisco International Airport,SFO,2024-02-16 13:46:10,Delta Air Lines,9888Km,Embraer ERJ170,76,67',\n",
              " '2024-01-28 16:15:19,John F. Kennedy International Airport,JFK,Miami International Airport,MIA,2024-01-28 18:12:19,American Airlines,1759Km,Bombardier CRJ-900,90,80',\n",
              " '2024-01-19 05:55:08,Dallas-Fort Worth International Airport,DFW,Shanghai Pudong International Airport,PVG,2024-01-19 19:03:08,China Southern Airlines,11820Km,Embraer ERJ170,76,69']"
            ]
          },
          "metadata": {},
          "execution_count": 7
        }
      ]
    },
    {
      "cell_type": "code",
      "source": [
        "def str_to_datatime(e):\n",
        "  e[0] = datetime.strptime(e[0], \"%Y-%m-%d %H:%M:%S\")\n",
        "  e[5] = datetime.strptime(e[5], \"%Y-%m-%d %H:%M:%S\")\n",
        "  return e"
      ],
      "metadata": {
        "id": "ornymO1Lfpc9"
      },
      "id": "ornymO1Lfpc9",
      "execution_count": 8,
      "outputs": []
    },
    {
      "cell_type": "code",
      "source": [
        "def is_valid_row(e):\n",
        "    try:\n",
        "        datetime.strptime(e[5], '%Y-%m-%d %H:%M:%S')\n",
        "\n",
        "        datetime.strptime(e[0], '%Y-%m-%d %H:%M:%S')\n",
        "\n",
        "        int(e[7][:-2])\n",
        "\n",
        "        return True\n",
        "    except (ValueError, IndexError):\n",
        "        return False\n"
      ],
      "metadata": {
        "id": "wTx0zYxGwxKZ"
      },
      "id": "wTx0zYxGwxKZ",
      "execution_count": 9,
      "outputs": []
    },
    {
      "cell_type": "code",
      "source": [
        "TripsRDD=Trips.map(lambda e:e.split(',')).filter(is_valid_row).map(str_to_datatime)"
      ],
      "metadata": {
        "id": "aLYtTbxxbQkw"
      },
      "id": "aLYtTbxxbQkw",
      "execution_count": 10,
      "outputs": []
    },
    {
      "cell_type": "code",
      "source": [
        "TripsRDD.take(5)"
      ],
      "metadata": {
        "colab": {
          "base_uri": "https://localhost:8080/"
        },
        "id": "L9bEowawgAcA",
        "outputId": "9a1211b8-d198-48d4-e9ee-2f5423d36c27"
      },
      "id": "L9bEowawgAcA",
      "execution_count": 11,
      "outputs": [
        {
          "output_type": "execute_result",
          "data": {
            "text/plain": [
              "[[datetime.datetime(2024, 5, 7, 12, 16, 35),\n",
              "  \"O'Hare International Airport\",\n",
              "  'ORD',\n",
              "  'Suvarnabhumi Airport',\n",
              "  'BKK',\n",
              "  datetime.datetime(2024, 5, 8, 3, 34, 35),\n",
              "  'Air France',\n",
              "  '13778Km',\n",
              "  'Airbus A319',\n",
              "  '150',\n",
              "  '140'],\n",
              " [datetime.datetime(2024, 4, 15, 7, 24, 8),\n",
              "  'Suvarnabhumi Airport',\n",
              "  'BKK',\n",
              "  'Sydney Kingsford-Smith Airport',\n",
              "  'SYD',\n",
              "  datetime.datetime(2024, 4, 15, 15, 45, 8),\n",
              "  'Emirates',\n",
              "  '7522Km',\n",
              "  'Boeing 737-700',\n",
              "  '148',\n",
              "  '146'],\n",
              " [datetime.datetime(2024, 2, 16, 2, 47, 10),\n",
              "  'Shanghai Pudong International Airport',\n",
              "  'PVG',\n",
              "  'San Francisco International Airport',\n",
              "  'SFO',\n",
              "  datetime.datetime(2024, 2, 16, 13, 46, 10),\n",
              "  'Delta Air Lines',\n",
              "  '9888Km',\n",
              "  'Embraer ERJ170',\n",
              "  '76',\n",
              "  '67'],\n",
              " [datetime.datetime(2024, 1, 28, 16, 15, 19),\n",
              "  'John F. Kennedy International Airport',\n",
              "  'JFK',\n",
              "  'Miami International Airport',\n",
              "  'MIA',\n",
              "  datetime.datetime(2024, 1, 28, 18, 12, 19),\n",
              "  'American Airlines',\n",
              "  '1759Km',\n",
              "  'Bombardier CRJ-900',\n",
              "  '90',\n",
              "  '80'],\n",
              " [datetime.datetime(2024, 1, 19, 5, 55, 8),\n",
              "  'Dallas-Fort Worth International Airport',\n",
              "  'DFW',\n",
              "  'Shanghai Pudong International Airport',\n",
              "  'PVG',\n",
              "  datetime.datetime(2024, 1, 19, 19, 3, 8),\n",
              "  'China Southern Airlines',\n",
              "  '11820Km',\n",
              "  'Embraer ERJ170',\n",
              "  '76',\n",
              "  '69']]"
            ]
          },
          "metadata": {},
          "execution_count": 11
        }
      ]
    },
    {
      "cell_type": "markdown",
      "source": [
        "# **Task 1: Find the number of flights per day that land at \"Frankfurt Airport\" in April, 2024. Print the results.**"
      ],
      "metadata": {
        "id": "gPraQwxGbIph"
      },
      "id": "gPraQwxGbIph"
    },
    {
      "cell_type": "code",
      "source": [
        "land_at_Frankfurt_Airport = TripsRDD.filter(lambda e:e[3].lower()==\"frankfurt airport\")"
      ],
      "metadata": {
        "id": "luCziDwchQw9"
      },
      "id": "luCziDwchQw9",
      "execution_count": 12,
      "outputs": []
    },
    {
      "cell_type": "code",
      "source": [
        "land_at_Frankfurt_Airport.take(5)"
      ],
      "metadata": {
        "colab": {
          "base_uri": "https://localhost:8080/"
        },
        "id": "h5P2Ou0ThyYL",
        "outputId": "5a191751-5269-45bc-c972-aab7a1bfb57e"
      },
      "id": "h5P2Ou0ThyYL",
      "execution_count": 13,
      "outputs": [
        {
          "output_type": "execute_result",
          "data": {
            "text/plain": [
              "[[datetime.datetime(2024, 2, 5, 8, 29, 24),\n",
              "  'Shanghai Pudong International Airport',\n",
              "  'PVG',\n",
              "  'Frankfurt Airport',\n",
              "  'FRA',\n",
              "  datetime.datetime(2024, 2, 5, 18, 20, 24),\n",
              "  'China Southern Airlines',\n",
              "  '8869Km',\n",
              "  'Boeing 737-400',\n",
              "  '168',\n",
              "  '164'],\n",
              " [datetime.datetime(2024, 4, 29, 19, 6, 21),\n",
              "  'San Francisco International Airport',\n",
              "  'SFO',\n",
              "  'Frankfurt Airport',\n",
              "  'FRA',\n",
              "  datetime.datetime(2024, 4, 30, 5, 16, 21),\n",
              "  'Qatar Airways',\n",
              "  '9158Km',\n",
              "  'Boeing 737-300',\n",
              "  '148',\n",
              "  '144'],\n",
              " [datetime.datetime(2024, 1, 21, 8, 17, 21),\n",
              "  'Charlotte Douglas International Airport',\n",
              "  'CLT',\n",
              "  'Frankfurt Airport',\n",
              "  'FRA',\n",
              "  datetime.datetime(2024, 1, 21, 16, 8, 21),\n",
              "  'Emirates',\n",
              "  '7065Km',\n",
              "  'AVRO RJ100',\n",
              "  '112',\n",
              "  '103'],\n",
              " [datetime.datetime(2024, 5, 22, 12, 3, 36),\n",
              "  'George Bush Intercontinental Airport',\n",
              "  'IAH',\n",
              "  'Frankfurt Airport',\n",
              "  'FRA',\n",
              "  datetime.datetime(2024, 5, 22, 21, 23, 36),\n",
              "  'Turkish Airlines',\n",
              "  '8410Km',\n",
              "  'Embraer ERJ195',\n",
              "  '118',\n",
              "  '110'],\n",
              " [datetime.datetime(2024, 2, 14, 15, 24, 3),\n",
              "  'Hong Kong International Airport',\n",
              "  'HKG',\n",
              "  'Frankfurt Airport',\n",
              "  'FRA',\n",
              "  datetime.datetime(2024, 2, 15, 1, 35, 3),\n",
              "  'Qatar Airways',\n",
              "  '9165Km',\n",
              "  'AVRO RJ100',\n",
              "  '112',\n",
              "  '102']]"
            ]
          },
          "metadata": {},
          "execution_count": 13
        }
      ]
    },
    {
      "cell_type": "code",
      "source": [
        "April_2024 = land_at_Frankfurt_Airport.filter(lambda e: e[5].year == 2024 and e[5].month == 4)"
      ],
      "metadata": {
        "id": "52U5hFUFiJxy"
      },
      "id": "52U5hFUFiJxy",
      "execution_count": 14,
      "outputs": []
    },
    {
      "cell_type": "code",
      "source": [
        "April_2024.take(5)"
      ],
      "metadata": {
        "colab": {
          "base_uri": "https://localhost:8080/"
        },
        "id": "TnDCqXEbijck",
        "outputId": "2c6426e4-0de4-41ab-b960-d50c022eb762"
      },
      "id": "TnDCqXEbijck",
      "execution_count": 15,
      "outputs": [
        {
          "output_type": "execute_result",
          "data": {
            "text/plain": [
              "[[datetime.datetime(2024, 4, 29, 19, 6, 21),\n",
              "  'San Francisco International Airport',\n",
              "  'SFO',\n",
              "  'Frankfurt Airport',\n",
              "  'FRA',\n",
              "  datetime.datetime(2024, 4, 30, 5, 16, 21),\n",
              "  'Qatar Airways',\n",
              "  '9158Km',\n",
              "  'Boeing 737-300',\n",
              "  '148',\n",
              "  '144'],\n",
              " [datetime.datetime(2024, 4, 10, 22, 9, 58),\n",
              "  'Istanbul Ataturk Airport',\n",
              "  'IST',\n",
              "  'Frankfurt Airport',\n",
              "  'FRA',\n",
              "  datetime.datetime(2024, 4, 11, 0, 13, 58),\n",
              "  'Air Canada',\n",
              "  '1865Km',\n",
              "  'Embraer ERJ195',\n",
              "  '118',\n",
              "  '109'],\n",
              " [datetime.datetime(2024, 4, 28, 7, 43, 12),\n",
              "  'Denver International Airport',\n",
              "  'DEN',\n",
              "  'Frankfurt Airport',\n",
              "  'FRA',\n",
              "  datetime.datetime(2024, 4, 28, 16, 42, 12),\n",
              "  'Turkish Airlines',\n",
              "  '8096Km',\n",
              "  'Boeing 737-400',\n",
              "  '168',\n",
              "  '161'],\n",
              " [datetime.datetime(2024, 4, 16, 21, 36, 21),\n",
              "  'Kuala Lumpur International Airport',\n",
              "  'KUL',\n",
              "  'Frankfurt Airport',\n",
              "  'FRA',\n",
              "  datetime.datetime(2024, 4, 17, 8, 43, 21),\n",
              "  'China Southern Airlines',\n",
              "  '10010Km',\n",
              "  'Boeing 737-300',\n",
              "  '148',\n",
              "  '139'],\n",
              " [datetime.datetime(2024, 4, 24, 17, 32, 2),\n",
              "  'Suvarnabhumi Airport',\n",
              "  'BKK',\n",
              "  'Frankfurt Airport',\n",
              "  'FRA',\n",
              "  datetime.datetime(2024, 4, 25, 3, 32, 2),\n",
              "  'Turkish Airlines',\n",
              "  '9011Km',\n",
              "  'Boeing 737-500',\n",
              "  '131',\n",
              "  '121']]"
            ]
          },
          "metadata": {},
          "execution_count": 15
        }
      ]
    },
    {
      "cell_type": "code",
      "source": [
        "daily_flights = April_2024.map(lambda e: (e[5].strftime(\"%Y-%m-%d\"),1))"
      ],
      "metadata": {
        "id": "CXY5Qwgnjm-k"
      },
      "id": "CXY5Qwgnjm-k",
      "execution_count": 16,
      "outputs": []
    },
    {
      "cell_type": "code",
      "source": [
        "daily_flights.take(5)"
      ],
      "metadata": {
        "colab": {
          "base_uri": "https://localhost:8080/"
        },
        "id": "qTJTC3hCkhFr",
        "outputId": "7b1b0cf1-0aaf-47d2-b473-636349ab1665"
      },
      "id": "qTJTC3hCkhFr",
      "execution_count": 17,
      "outputs": [
        {
          "output_type": "execute_result",
          "data": {
            "text/plain": [
              "[('2024-04-30', 1),\n",
              " ('2024-04-11', 1),\n",
              " ('2024-04-28', 1),\n",
              " ('2024-04-17', 1),\n",
              " ('2024-04-25', 1)]"
            ]
          },
          "metadata": {},
          "execution_count": 17
        }
      ]
    },
    {
      "cell_type": "code",
      "source": [
        "flights_per_day = daily_flights.reduceByKey(lambda x, y: x + y)"
      ],
      "metadata": {
        "id": "RBHslwT3k4eq"
      },
      "id": "RBHslwT3k4eq",
      "execution_count": 18,
      "outputs": []
    },
    {
      "cell_type": "code",
      "source": [
        "for day, count in flights_per_day.collect():\n",
        "    print(f\"{day}: {count} flights\")"
      ],
      "metadata": {
        "colab": {
          "base_uri": "https://localhost:8080/"
        },
        "id": "j17B4rMpxpqU",
        "outputId": "d7882602-799e-432d-93c7-38b5e3f4097a"
      },
      "id": "j17B4rMpxpqU",
      "execution_count": 19,
      "outputs": [
        {
          "output_type": "stream",
          "name": "stdout",
          "text": [
            "2024-04-30: 6 flights\n",
            "2024-04-11: 4 flights\n",
            "2024-04-28: 6 flights\n",
            "2024-04-17: 8 flights\n",
            "2024-04-25: 4 flights\n",
            "2024-04-22: 1 flights\n",
            "2024-04-04: 5 flights\n",
            "2024-04-14: 6 flights\n",
            "2024-04-19: 5 flights\n",
            "2024-04-27: 5 flights\n",
            "2024-04-13: 3 flights\n",
            "2024-04-20: 7 flights\n",
            "2024-04-07: 7 flights\n",
            "2024-04-16: 6 flights\n",
            "2024-04-09: 4 flights\n",
            "2024-04-02: 1 flights\n",
            "2024-04-12: 6 flights\n",
            "2024-04-06: 5 flights\n",
            "2024-04-10: 4 flights\n",
            "2024-04-29: 4 flights\n",
            "2024-04-15: 1 flights\n",
            "2024-04-03: 6 flights\n",
            "2024-04-24: 1 flights\n",
            "2024-04-23: 3 flights\n",
            "2024-04-01: 4 flights\n",
            "2024-04-05: 2 flights\n",
            "2024-04-26: 1 flights\n",
            "2024-04-08: 2 flights\n",
            "2024-04-18: 4 flights\n",
            "2024-04-21: 2 flights\n"
          ]
        }
      ]
    },
    {
      "cell_type": "markdown",
      "source": [
        "# **Task 2: Find the flights departing from “London Heathrow Airport” between 09:00 and 18:00. Store the results in a file.**"
      ],
      "metadata": {
        "id": "K7trPcEdbVYU"
      },
      "id": "K7trPcEdbVYU"
    },
    {
      "cell_type": "code",
      "source": [
        "London_Heathrow_Airport = TripsRDD.filter(lambda e: e[1].lower() == \"london heathrow airport\")"
      ],
      "metadata": {
        "id": "iuwj8SotbW10"
      },
      "id": "iuwj8SotbW10",
      "execution_count": 20,
      "outputs": []
    },
    {
      "cell_type": "code",
      "source": [
        "London_Heathrow_Airport.take(5)"
      ],
      "metadata": {
        "colab": {
          "base_uri": "https://localhost:8080/"
        },
        "id": "tto6oLv3ocpe",
        "outputId": "a9e2080f-df90-49fd-84b3-0920958e9c4c"
      },
      "id": "tto6oLv3ocpe",
      "execution_count": 21,
      "outputs": [
        {
          "output_type": "execute_result",
          "data": {
            "text/plain": [
              "[[datetime.datetime(2024, 2, 25, 15, 9, 24),\n",
              "  'London Heathrow Airport',\n",
              "  'LHR',\n",
              "  'Guangzhou Baiyun International Airport',\n",
              "  'CAN',\n",
              "  datetime.datetime(2024, 2, 26, 1, 42, 24),\n",
              "  'China Southern Airlines',\n",
              "  '9506Km',\n",
              "  'Airbus A320',\n",
              "  '180',\n",
              "  '176'],\n",
              " [datetime.datetime(2024, 4, 13, 3, 15, 2),\n",
              "  'London Heathrow Airport',\n",
              "  'LHR',\n",
              "  'George Bush Intercontinental Airport',\n",
              "  'IAH',\n",
              "  datetime.datetime(2024, 4, 13, 11, 53, 2),\n",
              "  'American Airlines',\n",
              "  '7771Km',\n",
              "  'Bombardier CRJ-900',\n",
              "  '90',\n",
              "  '86'],\n",
              " [datetime.datetime(2024, 4, 25, 21, 11, 6),\n",
              "  'London Heathrow Airport',\n",
              "  'LHR',\n",
              "  'Miami International Airport',\n",
              "  'MIA',\n",
              "  datetime.datetime(2024, 4, 26, 5, 5, 6),\n",
              "  'China Southern Airlines',\n",
              "  '7116Km',\n",
              "  'Boeing 737-300',\n",
              "  '148',\n",
              "  '138'],\n",
              " [datetime.datetime(2024, 1, 3, 17, 34, 41),\n",
              "  'London Heathrow Airport',\n",
              "  'LHR',\n",
              "  \"O'Hare International Airport\",\n",
              "  'ORD',\n",
              "  datetime.datetime(2024, 1, 4, 0, 37, 41),\n",
              "  'Delta Air Lines',\n",
              "  '6350Km',\n",
              "  'AVRO RJ100',\n",
              "  '112',\n",
              "  '110'],\n",
              " [datetime.datetime(2024, 1, 22, 4, 14, 59),\n",
              "  'London Heathrow Airport',\n",
              "  'LHR',\n",
              "  'Tokyo Haneda Airport',\n",
              "  'HND',\n",
              "  datetime.datetime(2024, 1, 22, 14, 54, 59),\n",
              "  'China Southern Airlines',\n",
              "  '9601Km',\n",
              "  'Boeing 737-300',\n",
              "  '148',\n",
              "  '142']]"
            ]
          },
          "metadata": {},
          "execution_count": 21
        }
      ]
    },
    {
      "cell_type": "code",
      "source": [
        "between_9And18 = London_Heathrow_Airport.filter(lambda e : (9 <= e[0].hour) and (e[0].hour < 18))"
      ],
      "metadata": {
        "id": "CqQb-c7PpJSP"
      },
      "id": "CqQb-c7PpJSP",
      "execution_count": 22,
      "outputs": []
    },
    {
      "cell_type": "code",
      "source": [
        "between_9And18.take(10)"
      ],
      "metadata": {
        "colab": {
          "base_uri": "https://localhost:8080/"
        },
        "id": "O5GP1vkyp87z",
        "outputId": "d03b7e6f-f9e5-458c-b7cb-75633795504b"
      },
      "id": "O5GP1vkyp87z",
      "execution_count": 23,
      "outputs": [
        {
          "output_type": "execute_result",
          "data": {
            "text/plain": [
              "[[datetime.datetime(2024, 2, 25, 15, 9, 24),\n",
              "  'London Heathrow Airport',\n",
              "  'LHR',\n",
              "  'Guangzhou Baiyun International Airport',\n",
              "  'CAN',\n",
              "  datetime.datetime(2024, 2, 26, 1, 42, 24),\n",
              "  'China Southern Airlines',\n",
              "  '9506Km',\n",
              "  'Airbus A320',\n",
              "  '180',\n",
              "  '176'],\n",
              " [datetime.datetime(2024, 1, 3, 17, 34, 41),\n",
              "  'London Heathrow Airport',\n",
              "  'LHR',\n",
              "  \"O'Hare International Airport\",\n",
              "  'ORD',\n",
              "  datetime.datetime(2024, 1, 4, 0, 37, 41),\n",
              "  'Delta Air Lines',\n",
              "  '6350Km',\n",
              "  'AVRO RJ100',\n",
              "  '112',\n",
              "  '110'],\n",
              " [datetime.datetime(2024, 1, 26, 9, 40, 20),\n",
              "  'London Heathrow Airport',\n",
              "  'LHR',\n",
              "  'Frankfurt Airport',\n",
              "  'FRA',\n",
              "  datetime.datetime(2024, 1, 26, 10, 23, 20),\n",
              "  'American Airlines',\n",
              "  '653Km',\n",
              "  'Airbus A320',\n",
              "  '180',\n",
              "  '175'],\n",
              " [datetime.datetime(2024, 2, 9, 11, 24, 35),\n",
              "  'London Heathrow Airport',\n",
              "  'LHR',\n",
              "  'Suvarnabhumi Airport',\n",
              "  'BKK',\n",
              "  datetime.datetime(2024, 2, 9, 22, 3, 35),\n",
              "  'Delta Air Lines',\n",
              "  '9588Km',\n",
              "  'Boeing 737-400',\n",
              "  '168',\n",
              "  '160'],\n",
              " [datetime.datetime(2024, 1, 4, 17, 38, 30),\n",
              "  'London Heathrow Airport',\n",
              "  'LHR',\n",
              "  'Guangzhou Baiyun International Airport',\n",
              "  'CAN',\n",
              "  datetime.datetime(2024, 1, 5, 4, 11, 30),\n",
              "  'Air France',\n",
              "  '9506Km',\n",
              "  'Bombardier CRJ-900',\n",
              "  '90',\n",
              "  '85'],\n",
              " [datetime.datetime(2024, 3, 30, 11, 37, 9),\n",
              "  'London Heathrow Airport',\n",
              "  'LHR',\n",
              "  'Amsterdam Airport Schiphol',\n",
              "  'AMS',\n",
              "  datetime.datetime(2024, 3, 30, 12, 1, 9),\n",
              "  'American Airlines',\n",
              "  '370Km',\n",
              "  'Boeing 737-500',\n",
              "  '131',\n",
              "  '123'],\n",
              " [datetime.datetime(2024, 3, 16, 12, 22, 2),\n",
              "  'London Heathrow Airport',\n",
              "  'LHR',\n",
              "  'Charles de Gaulle Airport',\n",
              "  'CDG',\n",
              "  datetime.datetime(2024, 3, 16, 12, 45, 2),\n",
              "  'Turkish Airlines',\n",
              "  '348Km',\n",
              "  'Boeing 737-400',\n",
              "  '168',\n",
              "  '167'],\n",
              " [datetime.datetime(2024, 5, 8, 10, 35, 42),\n",
              "  'London Heathrow Airport',\n",
              "  'LHR',\n",
              "  'Shanghai Pudong International Airport',\n",
              "  'PVG',\n",
              "  datetime.datetime(2024, 5, 8, 20, 51, 42),\n",
              "  'Emirates',\n",
              "  '9251Km',\n",
              "  'Airbus A321',\n",
              "  '210',\n",
              "  '201'],\n",
              " [datetime.datetime(2024, 1, 19, 15, 49, 43),\n",
              "  'London Heathrow Airport',\n",
              "  'LHR',\n",
              "  'Sao Paulo-Guarulhos International Airport',\n",
              "  'GRU',\n",
              "  datetime.datetime(2024, 1, 20, 2, 20, 43),\n",
              "  'Emirates',\n",
              "  '9470Km',\n",
              "  'Airbus A320',\n",
              "  '180',\n",
              "  '178'],\n",
              " [datetime.datetime(2024, 3, 22, 10, 8, 22),\n",
              "  'London Heathrow Airport',\n",
              "  'LHR',\n",
              "  'San Francisco International Airport',\n",
              "  'SFO',\n",
              "  datetime.datetime(2024, 3, 22, 19, 43, 22),\n",
              "  'Emirates',\n",
              "  '8625Km',\n",
              "  'Airbus A319',\n",
              "  '150',\n",
              "  '145']]"
            ]
          },
          "metadata": {},
          "execution_count": 23
        }
      ]
    },
    {
      "cell_type": "code",
      "source": [
        "between_9And18.saveAsTextFile(r\"/content/task2.txt\")"
      ],
      "metadata": {
        "id": "O7xJ96EAql_y"
      },
      "id": "O7xJ96EAql_y",
      "execution_count": 24,
      "outputs": []
    },
    {
      "cell_type": "markdown",
      "source": [
        "# **Task 3: Find all “American Airlines” flights that depart from \"Dubai International Airport\" in May, 2024, and store the results in a file.**"
      ],
      "metadata": {
        "id": "8NSJatvrbbH2"
      },
      "id": "8NSJatvrbbH2"
    },
    {
      "cell_type": "code",
      "source": [
        "AmericanAirlinesfromDubai=TripsRDD.filter(lambda e : e[1].lower() == \"dubai international airport\" and e[6].lower() == \"american airlines\" )"
      ],
      "metadata": {
        "id": "F_LhhMCybeDg"
      },
      "id": "F_LhhMCybeDg",
      "execution_count": 25,
      "outputs": []
    },
    {
      "cell_type": "code",
      "source": [
        "AmericanAirlinesfromDubai.take(5)"
      ],
      "metadata": {
        "id": "J2ObZDjv27NG",
        "colab": {
          "base_uri": "https://localhost:8080/"
        },
        "outputId": "0e68e507-a52c-4a9c-db0e-c262943b3d3e"
      },
      "id": "J2ObZDjv27NG",
      "execution_count": 26,
      "outputs": [
        {
          "output_type": "execute_result",
          "data": {
            "text/plain": [
              "[[datetime.datetime(2024, 4, 5, 2, 8, 19),\n",
              "  'Dubai International Airport',\n",
              "  'DXB',\n",
              "  'Kuala Lumpur International Airport',\n",
              "  'KUL',\n",
              "  datetime.datetime(2024, 4, 5, 8, 18, 19),\n",
              "  'American Airlines',\n",
              "  '5555Km',\n",
              "  'AVRO RJ100',\n",
              "  '112',\n",
              "  '108'],\n",
              " [datetime.datetime(2024, 1, 20, 11, 14, 49),\n",
              "  'Dubai International Airport',\n",
              "  'DXB',\n",
              "  'Beijing Capital International Airport',\n",
              "  'PEK',\n",
              "  datetime.datetime(2024, 1, 20, 17, 44, 49),\n",
              "  'American Airlines',\n",
              "  '5851Km',\n",
              "  'Boeing 737-300',\n",
              "  '148',\n",
              "  '144'],\n",
              " [datetime.datetime(2024, 3, 7, 10, 14, 2),\n",
              "  'Dubai International Airport',\n",
              "  'DXB',\n",
              "  'McCarran International Airport',\n",
              "  'LAS',\n",
              "  datetime.datetime(2024, 3, 8, 0, 49, 2),\n",
              "  'American Airlines',\n",
              "  '13137Km',\n",
              "  'Embraer ERJ195',\n",
              "  '118',\n",
              "  '111'],\n",
              " [datetime.datetime(2024, 3, 29, 12, 21, 20),\n",
              "  'Dubai International Airport',\n",
              "  'DXB',\n",
              "  'Guangzhou Baiyun International Airport',\n",
              "  'CAN',\n",
              "  datetime.datetime(2024, 3, 29, 18, 49, 20),\n",
              "  'American Airlines',\n",
              "  '5833Km',\n",
              "  'Bombardier CRJ-900',\n",
              "  '90',\n",
              "  '80'],\n",
              " [datetime.datetime(2024, 2, 24, 21, 40, 55),\n",
              "  'Dubai International Airport',\n",
              "  'DXB',\n",
              "  'Beijing Capital International Airport',\n",
              "  'PEK',\n",
              "  datetime.datetime(2024, 2, 25, 4, 10, 55),\n",
              "  'American Airlines',\n",
              "  '5851Km',\n",
              "  'Airbus A321',\n",
              "  '210',\n",
              "  '201']]"
            ]
          },
          "metadata": {},
          "execution_count": 26
        }
      ]
    },
    {
      "cell_type": "code",
      "source": [
        "AmericanAirlinesfromDubai.filter(lambda e:e[0].month == 5 and e[0].year == 2024).saveAsTextFile(r\"/content/task3.txt\")"
      ],
      "metadata": {
        "id": "kRQu-AoH3ivq"
      },
      "id": "kRQu-AoH3ivq",
      "execution_count": 27,
      "outputs": []
    },
    {
      "cell_type": "markdown",
      "source": [
        "# **Task 4: Find the total distance in miles traveled by each plane belonging to \"Qatar Airways\" during March 2024. Print the results.**"
      ],
      "metadata": {
        "id": "PVSD5n5ibekd"
      },
      "id": "PVSD5n5ibekd"
    },
    {
      "cell_type": "code",
      "source": [
        "QatarAirways = TripsRDD.filter(lambda e: (e[6].lower() == \"qatar airways\") and (e[0].month == 5))"
      ],
      "metadata": {
        "id": "xYYN0CN-bi8I"
      },
      "id": "xYYN0CN-bi8I",
      "execution_count": 42,
      "outputs": []
    },
    {
      "cell_type": "code",
      "source": [
        "QatarAirways.take(5)"
      ],
      "metadata": {
        "colab": {
          "base_uri": "https://localhost:8080/"
        },
        "id": "jBv-ZHx66Qtf",
        "outputId": "095fd671-7aef-46a3-a549-e6ecd7cc8973"
      },
      "id": "jBv-ZHx66Qtf",
      "execution_count": 43,
      "outputs": [
        {
          "output_type": "execute_result",
          "data": {
            "text/plain": [
              "[[datetime.datetime(2024, 5, 28, 1, 39, 59),\n",
              "  'Charlotte Douglas International Airport',\n",
              "  'CLT',\n",
              "  'Istanbul Ataturk Airport',\n",
              "  'IST',\n",
              "  datetime.datetime(2024, 5, 28, 11, 34, 59),\n",
              "  'Qatar Airways',\n",
              "  '8931Km',\n",
              "  'Embraer ERJ170',\n",
              "  '76',\n",
              "  '74'],\n",
              " [datetime.datetime(2024, 5, 5, 13, 8, 23),\n",
              "  'Phoenix Sky Harbor International Airport',\n",
              "  'PHX',\n",
              "  'Frankfurt Airport',\n",
              "  'FRA',\n",
              "  datetime.datetime(2024, 5, 5, 23, 12, 23),\n",
              "  'Qatar Airways',\n",
              "  '9060Km',\n",
              "  'Airbus A321',\n",
              "  '210',\n",
              "  '206'],\n",
              " [datetime.datetime(2024, 5, 25, 20, 38),\n",
              "  'Soekarno-Hatta International Airport',\n",
              "  'CGK',\n",
              "  'Denver International Airport',\n",
              "  'DEN',\n",
              "  datetime.datetime(2024, 5, 26, 13, 27),\n",
              "  'Qatar Airways',\n",
              "  '15148Km',\n",
              "  'Airbus A321',\n",
              "  '210',\n",
              "  '203'],\n",
              " [datetime.datetime(2024, 5, 27, 21, 24, 55),\n",
              "  'Kuala Lumpur International Airport',\n",
              "  'KUL',\n",
              "  'Dubai International Airport',\n",
              "  'DXB',\n",
              "  datetime.datetime(2024, 5, 28, 3, 34, 55),\n",
              "  'Qatar Airways',\n",
              "  '5555Km',\n",
              "  'Boeing 737-400',\n",
              "  '168',\n",
              "  '164'],\n",
              " [datetime.datetime(2024, 5, 24, 12, 14, 35),\n",
              "  'Kuala Lumpur International Airport',\n",
              "  'KUL',\n",
              "  'Singapore Changi Airport',\n",
              "  'SIN',\n",
              "  datetime.datetime(2024, 5, 24, 12, 33, 35),\n",
              "  'Qatar Airways',\n",
              "  '297Km',\n",
              "  'AVRO RJ100',\n",
              "  '112',\n",
              "  '105']]"
            ]
          },
          "metadata": {},
          "execution_count": 43
        }
      ]
    },
    {
      "cell_type": "code",
      "source": [
        "QatarAirwaysPlanes = QatarAirways.map(lambda e: (e[8] , int(e[7][:-2]) * 0.621371) )"
      ],
      "metadata": {
        "id": "Up_mbnhC6b-b"
      },
      "id": "Up_mbnhC6b-b",
      "execution_count": 44,
      "outputs": []
    },
    {
      "cell_type": "code",
      "source": [
        "QatarAirwaysPlanes.take(5)"
      ],
      "metadata": {
        "colab": {
          "base_uri": "https://localhost:8080/"
        },
        "id": "HgIc7nKE7N3n",
        "outputId": "ed28444f-d880-400d-a681-c377227b38b2"
      },
      "id": "HgIc7nKE7N3n",
      "execution_count": 45,
      "outputs": [
        {
          "output_type": "execute_result",
          "data": {
            "text/plain": [
              "[('Embraer ERJ170', 5549.464401),\n",
              " ('Airbus A321', 5629.62126),\n",
              " ('Airbus A321', 9412.527908),\n",
              " ('Boeing 737-400', 3451.715905),\n",
              " ('AVRO RJ100', 184.547187)]"
            ]
          },
          "metadata": {},
          "execution_count": 45
        }
      ]
    },
    {
      "cell_type": "code",
      "source": [
        "TotalDistanceByPlane = QatarAirwaysPlanes.reduceByKey(lambda x,y: round(x+y,2))"
      ],
      "metadata": {
        "id": "1-73Wf9J7_X7"
      },
      "id": "1-73Wf9J7_X7",
      "execution_count": 48,
      "outputs": []
    },
    {
      "cell_type": "code",
      "source": [
        "TotalDistanceByPlane.take(5)"
      ],
      "metadata": {
        "colab": {
          "base_uri": "https://localhost:8080/"
        },
        "id": "F-qhw1cR8SFO",
        "outputId": "87eee645-cee3-4a9a-9270-e8ab9a1951a3"
      },
      "id": "F-qhw1cR8SFO",
      "execution_count": 49,
      "outputs": [
        {
          "output_type": "execute_result",
          "data": {
            "text/plain": [
              "[('Embraer ERJ170', 165646.31),\n",
              " ('Airbus A321', 209152.86),\n",
              " ('Boeing 737-400', 161926.19),\n",
              " ('AVRO RJ100', 205872.04),\n",
              " ('Boeing 737-500', 260548.97)]"
            ]
          },
          "metadata": {},
          "execution_count": 49
        }
      ]
    },
    {
      "cell_type": "code",
      "source": [
        "for p , d in TotalDistanceByPlane.collect():\n",
        "  print(f\"plane name ( {p} ) : total distance traveled = {d}\")"
      ],
      "metadata": {
        "colab": {
          "base_uri": "https://localhost:8080/"
        },
        "id": "bT8IesLt_WZo",
        "outputId": "a03c36c7-532a-400d-df6e-47bda0b1b0d7"
      },
      "id": "bT8IesLt_WZo",
      "execution_count": 50,
      "outputs": [
        {
          "output_type": "stream",
          "name": "stdout",
          "text": [
            "plane name ( Embraer ERJ170 ) : total distance traveled = 165646.31\n",
            "plane name ( Airbus A321 ) : total distance traveled = 209152.86\n",
            "plane name ( Boeing 737-400 ) : total distance traveled = 161926.19\n",
            "plane name ( AVRO RJ100 ) : total distance traveled = 205872.04\n",
            "plane name ( Boeing 737-500 ) : total distance traveled = 260548.97\n",
            "plane name ( Airbus A320 ) : total distance traveled = 193429.7\n",
            "plane name ( Bombardier CRJ-900 ) : total distance traveled = 254293.6\n",
            "plane name ( Boeing 737-300 ) : total distance traveled = 273762.4\n",
            "plane name ( Embraer ERJ195 ) : total distance traveled = 208100.86\n",
            "plane name ( Airbus A319 ) : total distance traveled = 189910.87\n",
            "plane name ( Boeing 737-700 ) : total distance traveled = 201461.54\n"
          ]
        }
      ]
    },
    {
      "cell_type": "markdown",
      "source": [
        "# **Task 5: Find the occupancy rate for each \"Emirates\" flight departing from “John F. Kennedy International Airport” between 09:00 and 15:00. Store the results in a file.**"
      ],
      "metadata": {
        "id": "IeaItdHLbiLP"
      },
      "id": "IeaItdHLbiLP"
    },
    {
      "cell_type": "markdown",
      "source": [
        "**The occupancy rate for a flight refers to the percentage of available seats on an aircraft that are filled with passengers. For example, if a plane has 200 seats and there are 180 passengers on board.**\n",
        " the occupancy rate would be:\n",
        "(180 passengers / 200 seats) * 100 = 90% occupancy rate"
      ],
      "metadata": {
        "id": "IWqrznFabnLW"
      },
      "id": "IWqrznFabnLW"
    },
    {
      "cell_type": "code",
      "source": [
        "Emirates = TripsRDD.filter(lambda e : e[6].lower() == 'emirates' and e[1].lower() == \"john f. kennedy international airport\")"
      ],
      "metadata": {
        "id": "EIyGWMa8bnQn"
      },
      "id": "EIyGWMa8bnQn",
      "execution_count": 35,
      "outputs": []
    },
    {
      "cell_type": "code",
      "source": [
        "Emirates.take(5)"
      ],
      "metadata": {
        "colab": {
          "base_uri": "https://localhost:8080/"
        },
        "id": "CQBySYcMB1y9",
        "outputId": "c213b079-edcf-486e-92db-9a81614eec44"
      },
      "id": "CQBySYcMB1y9",
      "execution_count": 36,
      "outputs": [
        {
          "output_type": "execute_result",
          "data": {
            "text/plain": [
              "[[datetime.datetime(2024, 1, 15, 9, 40, 56),\n",
              "  'John F. Kennedy International Airport',\n",
              "  'JFK',\n",
              "  \"O'Hare International Airport\",\n",
              "  'ORD',\n",
              "  datetime.datetime(2024, 1, 15, 10, 59, 56),\n",
              "  'Emirates',\n",
              "  '1189Km',\n",
              "  'Bombardier CRJ-900',\n",
              "  '90',\n",
              "  '86'],\n",
              " [datetime.datetime(2024, 2, 23, 22, 17, 37),\n",
              "  'John F. Kennedy International Airport',\n",
              "  'JFK',\n",
              "  'London Heathrow Airport',\n",
              "  'LHR',\n",
              "  datetime.datetime(2024, 2, 24, 4, 26, 37),\n",
              "  'Emirates',\n",
              "  '5545Km',\n",
              "  'Bombardier CRJ-900',\n",
              "  '90',\n",
              "  '82'],\n",
              " [datetime.datetime(2024, 3, 18, 9, 16, 8),\n",
              "  'John F. Kennedy International Airport',\n",
              "  'JFK',\n",
              "  'Charles de Gaulle Airport',\n",
              "  'CDG',\n",
              "  datetime.datetime(2024, 3, 18, 15, 45, 8),\n",
              "  'Emirates',\n",
              "  '5840Km',\n",
              "  'AVRO RJ100',\n",
              "  '112',\n",
              "  '106'],\n",
              " [datetime.datetime(2024, 3, 30, 4, 9, 1),\n",
              "  'John F. Kennedy International Airport',\n",
              "  'JFK',\n",
              "  'Frankfurt Airport',\n",
              "  'FRA',\n",
              "  datetime.datetime(2024, 3, 30, 11, 1, 1),\n",
              "  'Emirates',\n",
              "  '6194Km',\n",
              "  'Embraer ERJ170',\n",
              "  '76',\n",
              "  '68'],\n",
              " [datetime.datetime(2024, 3, 17, 20, 56, 1),\n",
              "  'John F. Kennedy International Airport',\n",
              "  'JFK',\n",
              "  'Beijing Capital International Airport',\n",
              "  'PEK',\n",
              "  datetime.datetime(2024, 3, 18, 9, 8, 1),\n",
              "  'Emirates',\n",
              "  '10990Km',\n",
              "  'Boeing 737-300',\n",
              "  '148',\n",
              "  '145']]"
            ]
          },
          "metadata": {},
          "execution_count": 36
        }
      ]
    },
    {
      "cell_type": "code",
      "source": [
        "between_9and15 = Emirates.filter(lambda e: 9 < e[0].hour and e[0].hour < 15 )"
      ],
      "metadata": {
        "id": "csJtqOarDxb2"
      },
      "id": "csJtqOarDxb2",
      "execution_count": 37,
      "outputs": []
    },
    {
      "cell_type": "code",
      "source": [
        "between_9and15.take(5)"
      ],
      "metadata": {
        "colab": {
          "base_uri": "https://localhost:8080/"
        },
        "id": "_48VaZnXENM-",
        "outputId": "ebab560c-fb17-44a3-fcf5-31caeae364a7"
      },
      "id": "_48VaZnXENM-",
      "execution_count": 38,
      "outputs": [
        {
          "output_type": "execute_result",
          "data": {
            "text/plain": [
              "[[datetime.datetime(2024, 4, 24, 13, 27, 58),\n",
              "  'John F. Kennedy International Airport',\n",
              "  'JFK',\n",
              "  'Suvarnabhumi Airport',\n",
              "  'BKK',\n",
              "  datetime.datetime(2024, 4, 25, 4, 57, 58),\n",
              "  'Emirates',\n",
              "  '13964Km',\n",
              "  'AVRO RJ100',\n",
              "  '112',\n",
              "  '106'],\n",
              " [datetime.datetime(2024, 4, 25, 14, 37, 52),\n",
              "  'John F. Kennedy International Airport',\n",
              "  'JFK',\n",
              "  'Phoenix Sky Harbor International Airport',\n",
              "  'PHX',\n",
              "  datetime.datetime(2024, 4, 25, 18, 27, 52),\n",
              "  'Emirates',\n",
              "  '3461Km',\n",
              "  'Boeing 737-300',\n",
              "  '148',\n",
              "  '138'],\n",
              " [datetime.datetime(2024, 5, 15, 11, 3, 32),\n",
              "  'John F. Kennedy International Airport',\n",
              "  'JFK',\n",
              "  'Kuala Lumpur International Airport',\n",
              "  'KUL',\n",
              "  datetime.datetime(2024, 5, 16, 3, 55, 32),\n",
              "  'Emirates',\n",
              "  '15185Km',\n",
              "  'Airbus A320',\n",
              "  '180',\n",
              "  '174'],\n",
              " [datetime.datetime(2024, 4, 8, 13, 4, 40),\n",
              "  'John F. Kennedy International Airport',\n",
              "  'JFK',\n",
              "  \"O'Hare International Airport\",\n",
              "  'ORD',\n",
              "  datetime.datetime(2024, 4, 8, 14, 23, 40),\n",
              "  'Emirates',\n",
              "  '1189Km',\n",
              "  'Airbus A320',\n",
              "  '180',\n",
              "  '175'],\n",
              " [datetime.datetime(2024, 2, 5, 13, 49, 33),\n",
              "  'John F. Kennedy International Airport',\n",
              "  'JFK',\n",
              "  'McCarran International Airport',\n",
              "  'LAS',\n",
              "  datetime.datetime(2024, 2, 5, 17, 49, 33),\n",
              "  'Emirates',\n",
              "  '3613Km',\n",
              "  'Boeing 737-500',\n",
              "  '131',\n",
              "  '124']]"
            ]
          },
          "metadata": {},
          "execution_count": 38
        }
      ]
    },
    {
      "cell_type": "code",
      "source": [
        "occupancy_rate = between_9and15.map(lambda e: [ e[0] , e[1] , e[6] ,round((int(e[-1])/int(e[-2]))*100,0) ])"
      ],
      "metadata": {
        "id": "Uwnds2GFFPdn"
      },
      "id": "Uwnds2GFFPdn",
      "execution_count": 39,
      "outputs": []
    },
    {
      "cell_type": "code",
      "source": [
        "occupancy_rate.take(5)"
      ],
      "metadata": {
        "colab": {
          "base_uri": "https://localhost:8080/"
        },
        "id": "Rn4zyL83GAsw",
        "outputId": "318ec04f-c795-40f7-c8e3-172d9263e420"
      },
      "id": "Rn4zyL83GAsw",
      "execution_count": 40,
      "outputs": [
        {
          "output_type": "execute_result",
          "data": {
            "text/plain": [
              "[[datetime.datetime(2024, 4, 24, 13, 27, 58),\n",
              "  'John F. Kennedy International Airport',\n",
              "  'Emirates',\n",
              "  95.0],\n",
              " [datetime.datetime(2024, 4, 25, 14, 37, 52),\n",
              "  'John F. Kennedy International Airport',\n",
              "  'Emirates',\n",
              "  93.0],\n",
              " [datetime.datetime(2024, 5, 15, 11, 3, 32),\n",
              "  'John F. Kennedy International Airport',\n",
              "  'Emirates',\n",
              "  97.0],\n",
              " [datetime.datetime(2024, 4, 8, 13, 4, 40),\n",
              "  'John F. Kennedy International Airport',\n",
              "  'Emirates',\n",
              "  97.0],\n",
              " [datetime.datetime(2024, 2, 5, 13, 49, 33),\n",
              "  'John F. Kennedy International Airport',\n",
              "  'Emirates',\n",
              "  95.0]]"
            ]
          },
          "metadata": {},
          "execution_count": 40
        }
      ]
    },
    {
      "cell_type": "code",
      "source": [
        "occupancy_rate.saveAsTextFile(r\"/content/task5.txt\")"
      ],
      "metadata": {
        "id": "_sFhgMokGieg"
      },
      "id": "_sFhgMokGieg",
      "execution_count": 41,
      "outputs": []
    }
  ],
  "metadata": {
    "kernelspec": {
      "display_name": "Python 3 (ipykernel)",
      "language": "python",
      "name": "python3"
    },
    "language_info": {
      "codemirror_mode": {
        "name": "ipython",
        "version": 3
      },
      "file_extension": ".py",
      "mimetype": "text/x-python",
      "name": "python",
      "nbconvert_exporter": "python",
      "pygments_lexer": "ipython3",
      "version": "3.9.7"
    },
    "colab": {
      "provenance": [],
      "collapsed_sections": [
        "Pq4vWs-evtmR",
        "gPraQwxGbIph",
        "8NSJatvrbbH2"
      ]
    }
  },
  "nbformat": 4,
  "nbformat_minor": 5
}